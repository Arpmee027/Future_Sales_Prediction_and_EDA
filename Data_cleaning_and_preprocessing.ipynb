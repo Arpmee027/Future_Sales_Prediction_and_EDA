{
 "cells": [
  {
   "cell_type": "code",
   "execution_count": 97,
   "id": "958084b8",
   "metadata": {},
   "outputs": [],
   "source": [
    "import pandas as pd\n",
    "import numpy as np\n",
    "import datetime"
   ]
  },
  {
   "cell_type": "markdown",
   "id": "937defe9",
   "metadata": {},
   "source": [
    "## Loading Dataset"
   ]
  },
  {
   "cell_type": "code",
   "execution_count": 98,
   "id": "da10ae57",
   "metadata": {},
   "outputs": [
    {
     "name": "stdout",
     "output_type": "stream",
     "text": [
      "Loading Dataset...\n",
      "Dataset Loaded Successfully.\n"
     ]
    }
   ],
   "source": [
    "print(\"Loading Dataset...\")\n",
    "\n",
    "try:\n",
    "    df = pd.read_csv('Online_Retail_2.csv', encoding='latin1')\n",
    "    print(\"Dataset Loaded Successfully.\")\n",
    "except FileNotFoundError:\n",
    "    print(\"Error: The file 'Online_Retail_2.csv' was not found.\")\n",
    "    print(\"please make sure that the file is in the same directory as the script.\")\n",
    "    exit()"
   ]
  },
  {
   "cell_type": "markdown",
   "id": "c745f05b",
   "metadata": {},
   "source": [
    "## Understanding the Dataset Structure"
   ]
  },
  {
   "cell_type": "code",
   "execution_count": 99,
   "id": "bf2dee22",
   "metadata": {},
   "outputs": [
    {
     "name": "stdout",
     "output_type": "stream",
     "text": [
      "<class 'pandas.core.frame.DataFrame'>\n",
      "RangeIndex: 541909 entries, 0 to 541908\n",
      "Data columns (total 8 columns):\n",
      " #   Column       Non-Null Count   Dtype  \n",
      "---  ------       --------------   -----  \n",
      " 0   InvoiceNo    541909 non-null  object \n",
      " 1   StockCode    541909 non-null  object \n",
      " 2   Description  540455 non-null  object \n",
      " 3   Quantity     541909 non-null  int64  \n",
      " 4   InvoiceDate  541909 non-null  object \n",
      " 5   UnitPrice    541909 non-null  float64\n",
      " 6   CustomerID   406829 non-null  float64\n",
      " 7   Country      541909 non-null  object \n",
      "dtypes: float64(2), int64(1), object(5)\n",
      "memory usage: 33.1+ MB\n"
     ]
    }
   ],
   "source": [
    "df.info()"
   ]
  },
  {
   "cell_type": "code",
   "execution_count": 100,
   "id": "6bdd74a7",
   "metadata": {},
   "outputs": [
    {
     "data": {
      "text/html": [
       "<div>\n",
       "<style scoped>\n",
       "    .dataframe tbody tr th:only-of-type {\n",
       "        vertical-align: middle;\n",
       "    }\n",
       "\n",
       "    .dataframe tbody tr th {\n",
       "        vertical-align: top;\n",
       "    }\n",
       "\n",
       "    .dataframe thead th {\n",
       "        text-align: right;\n",
       "    }\n",
       "</style>\n",
       "<table border=\"1\" class=\"dataframe\">\n",
       "  <thead>\n",
       "    <tr style=\"text-align: right;\">\n",
       "      <th></th>\n",
       "      <th>InvoiceNo</th>\n",
       "      <th>StockCode</th>\n",
       "      <th>Description</th>\n",
       "      <th>Quantity</th>\n",
       "      <th>InvoiceDate</th>\n",
       "      <th>UnitPrice</th>\n",
       "      <th>CustomerID</th>\n",
       "      <th>Country</th>\n",
       "    </tr>\n",
       "  </thead>\n",
       "  <tbody>\n",
       "    <tr>\n",
       "      <th>0</th>\n",
       "      <td>536365</td>\n",
       "      <td>85123A</td>\n",
       "      <td>WHITE HANGING HEART T-LIGHT HOLDER</td>\n",
       "      <td>6</td>\n",
       "      <td>12/1/2010 8:26</td>\n",
       "      <td>2.55</td>\n",
       "      <td>17850.0</td>\n",
       "      <td>United Kingdom</td>\n",
       "    </tr>\n",
       "    <tr>\n",
       "      <th>1</th>\n",
       "      <td>536365</td>\n",
       "      <td>71053</td>\n",
       "      <td>WHITE METAL LANTERN</td>\n",
       "      <td>6</td>\n",
       "      <td>12/1/2010 8:26</td>\n",
       "      <td>3.39</td>\n",
       "      <td>17850.0</td>\n",
       "      <td>United Kingdom</td>\n",
       "    </tr>\n",
       "    <tr>\n",
       "      <th>2</th>\n",
       "      <td>536365</td>\n",
       "      <td>84406B</td>\n",
       "      <td>CREAM CUPID HEARTS COAT HANGER</td>\n",
       "      <td>8</td>\n",
       "      <td>12/1/2010 8:26</td>\n",
       "      <td>2.75</td>\n",
       "      <td>17850.0</td>\n",
       "      <td>United Kingdom</td>\n",
       "    </tr>\n",
       "    <tr>\n",
       "      <th>3</th>\n",
       "      <td>536365</td>\n",
       "      <td>84029G</td>\n",
       "      <td>KNITTED UNION FLAG HOT WATER BOTTLE</td>\n",
       "      <td>6</td>\n",
       "      <td>12/1/2010 8:26</td>\n",
       "      <td>3.39</td>\n",
       "      <td>17850.0</td>\n",
       "      <td>United Kingdom</td>\n",
       "    </tr>\n",
       "    <tr>\n",
       "      <th>4</th>\n",
       "      <td>536365</td>\n",
       "      <td>84029E</td>\n",
       "      <td>RED WOOLLY HOTTIE WHITE HEART.</td>\n",
       "      <td>6</td>\n",
       "      <td>12/1/2010 8:26</td>\n",
       "      <td>3.39</td>\n",
       "      <td>17850.0</td>\n",
       "      <td>United Kingdom</td>\n",
       "    </tr>\n",
       "  </tbody>\n",
       "</table>\n",
       "</div>"
      ],
      "text/plain": [
       "  InvoiceNo StockCode                          Description  Quantity  \\\n",
       "0    536365    85123A   WHITE HANGING HEART T-LIGHT HOLDER         6   \n",
       "1    536365     71053                  WHITE METAL LANTERN         6   \n",
       "2    536365    84406B       CREAM CUPID HEARTS COAT HANGER         8   \n",
       "3    536365    84029G  KNITTED UNION FLAG HOT WATER BOTTLE         6   \n",
       "4    536365    84029E       RED WOOLLY HOTTIE WHITE HEART.         6   \n",
       "\n",
       "      InvoiceDate  UnitPrice  CustomerID         Country  \n",
       "0  12/1/2010 8:26       2.55     17850.0  United Kingdom  \n",
       "1  12/1/2010 8:26       3.39     17850.0  United Kingdom  \n",
       "2  12/1/2010 8:26       2.75     17850.0  United Kingdom  \n",
       "3  12/1/2010 8:26       3.39     17850.0  United Kingdom  \n",
       "4  12/1/2010 8:26       3.39     17850.0  United Kingdom  "
      ]
     },
     "execution_count": 100,
     "metadata": {},
     "output_type": "execute_result"
    }
   ],
   "source": [
    "df.head()"
   ]
  },
  {
   "cell_type": "code",
   "execution_count": 101,
   "id": "ce1bb879",
   "metadata": {},
   "outputs": [
    {
     "data": {
      "text/plain": [
       "InvoiceNo           0\n",
       "StockCode           0\n",
       "Description      1454\n",
       "Quantity            0\n",
       "InvoiceDate         0\n",
       "UnitPrice           0\n",
       "CustomerID     135080\n",
       "Country             0\n",
       "dtype: int64"
      ]
     },
     "execution_count": 101,
     "metadata": {},
     "output_type": "execute_result"
    }
   ],
   "source": [
    "df.isna().sum()"
   ]
  },
  {
   "cell_type": "code",
   "execution_count": 102,
   "id": "132d0cf1",
   "metadata": {},
   "outputs": [
    {
     "data": {
      "text/html": [
       "<div>\n",
       "<style scoped>\n",
       "    .dataframe tbody tr th:only-of-type {\n",
       "        vertical-align: middle;\n",
       "    }\n",
       "\n",
       "    .dataframe tbody tr th {\n",
       "        vertical-align: top;\n",
       "    }\n",
       "\n",
       "    .dataframe thead th {\n",
       "        text-align: right;\n",
       "    }\n",
       "</style>\n",
       "<table border=\"1\" class=\"dataframe\">\n",
       "  <thead>\n",
       "    <tr style=\"text-align: right;\">\n",
       "      <th></th>\n",
       "      <th>count</th>\n",
       "      <th>mean</th>\n",
       "      <th>std</th>\n",
       "      <th>min</th>\n",
       "      <th>25%</th>\n",
       "      <th>50%</th>\n",
       "      <th>75%</th>\n",
       "      <th>max</th>\n",
       "    </tr>\n",
       "  </thead>\n",
       "  <tbody>\n",
       "    <tr>\n",
       "      <th>Quantity</th>\n",
       "      <td>541909.0</td>\n",
       "      <td>9.552250</td>\n",
       "      <td>218.081158</td>\n",
       "      <td>-80995.00</td>\n",
       "      <td>1.00</td>\n",
       "      <td>3.00</td>\n",
       "      <td>10.00</td>\n",
       "      <td>80995.0</td>\n",
       "    </tr>\n",
       "    <tr>\n",
       "      <th>UnitPrice</th>\n",
       "      <td>541909.0</td>\n",
       "      <td>4.611114</td>\n",
       "      <td>96.759853</td>\n",
       "      <td>-11062.06</td>\n",
       "      <td>1.25</td>\n",
       "      <td>2.08</td>\n",
       "      <td>4.13</td>\n",
       "      <td>38970.0</td>\n",
       "    </tr>\n",
       "    <tr>\n",
       "      <th>CustomerID</th>\n",
       "      <td>406829.0</td>\n",
       "      <td>15287.690570</td>\n",
       "      <td>1713.600303</td>\n",
       "      <td>12346.00</td>\n",
       "      <td>13953.00</td>\n",
       "      <td>15152.00</td>\n",
       "      <td>16791.00</td>\n",
       "      <td>18287.0</td>\n",
       "    </tr>\n",
       "  </tbody>\n",
       "</table>\n",
       "</div>"
      ],
      "text/plain": [
       "               count          mean          std       min       25%       50%  \\\n",
       "Quantity    541909.0      9.552250   218.081158 -80995.00      1.00      3.00   \n",
       "UnitPrice   541909.0      4.611114    96.759853 -11062.06      1.25      2.08   \n",
       "CustomerID  406829.0  15287.690570  1713.600303  12346.00  13953.00  15152.00   \n",
       "\n",
       "                 75%      max  \n",
       "Quantity       10.00  80995.0  \n",
       "UnitPrice       4.13  38970.0  \n",
       "CustomerID  16791.00  18287.0  "
      ]
     },
     "execution_count": 102,
     "metadata": {},
     "output_type": "execute_result"
    }
   ],
   "source": [
    "df.describe().T"
   ]
  },
  {
   "cell_type": "markdown",
   "id": "6bad78f8",
   "metadata": {},
   "source": [
    "In the above summary of descriptive statistics, the minimum value for `Quantity` and `UnitPrice` columns is negative which indicates that the dataset includes cancelled orders for which the `Quantity` and `UnitPrice` are negative."
   ]
  },
  {
   "cell_type": "markdown",
   "id": "91834f82",
   "metadata": {},
   "source": [
    "## Data Cleaning and Preprocessing"
   ]
  },
  {
   "cell_type": "markdown",
   "id": "f9e4a21d",
   "metadata": {},
   "source": [
    "### Handling Duplicate Rows"
   ]
  },
  {
   "cell_type": "code",
   "execution_count": 103,
   "id": "5aa46bbd",
   "metadata": {},
   "outputs": [
    {
     "data": {
      "text/plain": [
       "5268"
      ]
     },
     "execution_count": 103,
     "metadata": {},
     "output_type": "execute_result"
    }
   ],
   "source": [
    "df.duplicated().sum()"
   ]
  },
  {
   "cell_type": "markdown",
   "id": "87dadb86",
   "metadata": {},
   "source": [
    "These `5268` duplicate rows need to be removed to ensure data integrity and prevent skewed analysis."
   ]
  },
  {
   "cell_type": "code",
   "execution_count": 104,
   "id": "55cc93ea",
   "metadata": {},
   "outputs": [
    {
     "name": "stdout",
     "output_type": "stream",
     "text": [
      "Handling duplicate rows...\n",
      "Removed 5268 duplicate rows from the dataset.\n",
      "Remaining row count: 536641\n"
     ]
    }
   ],
   "source": [
    "print(\"Handling duplicate rows...\")\n",
    "initial_row_count = len(df)\n",
    "df.drop_duplicates(inplace=True)\n",
    "print(f\"Removed {initial_row_count - len(df)} duplicate rows from the dataset.\")\n",
    "print(f\"Remaining row count: {len(df)}\")"
   ]
  },
  {
   "cell_type": "markdown",
   "id": "d0bcac53",
   "metadata": {},
   "source": [
    "### Handling the Missing Values"
   ]
  },
  {
   "cell_type": "code",
   "execution_count": 105,
   "id": "8f59cb3c",
   "metadata": {},
   "outputs": [
    {
     "data": {
      "text/plain": [
       "InvoiceNo           0\n",
       "StockCode           0\n",
       "Description      1454\n",
       "Quantity            0\n",
       "InvoiceDate         0\n",
       "UnitPrice           0\n",
       "CustomerID     135037\n",
       "Country             0\n",
       "dtype: int64"
      ]
     },
     "execution_count": 105,
     "metadata": {},
     "output_type": "execute_result"
    }
   ],
   "source": [
    "df.isna().sum()"
   ]
  },
  {
   "cell_type": "markdown",
   "id": "8391ff4c",
   "metadata": {},
   "source": [
    "The `CustomerID` column need to be removed from the dataset. As it contains `135037` missing values, which represents approximately one-quarter of the total rows. Dropping these rows would result in an incomplete and potentially inaccurate view of total sales, which could distort inventory forecasts and lead to stockouts or excess inventory."
   ]
  },
  {
   "cell_type": "code",
   "execution_count": 106,
   "id": "bf58fedb",
   "metadata": {},
   "outputs": [],
   "source": [
    "df.drop(columns=['CustomerID'], inplace=True)"
   ]
  },
  {
   "cell_type": "code",
   "execution_count": 107,
   "id": "949284fc",
   "metadata": {},
   "outputs": [
    {
     "data": {
      "text/html": [
       "<div>\n",
       "<style scoped>\n",
       "    .dataframe tbody tr th:only-of-type {\n",
       "        vertical-align: middle;\n",
       "    }\n",
       "\n",
       "    .dataframe tbody tr th {\n",
       "        vertical-align: top;\n",
       "    }\n",
       "\n",
       "    .dataframe thead th {\n",
       "        text-align: right;\n",
       "    }\n",
       "</style>\n",
       "<table border=\"1\" class=\"dataframe\">\n",
       "  <thead>\n",
       "    <tr style=\"text-align: right;\">\n",
       "      <th></th>\n",
       "      <th>InvoiceNo</th>\n",
       "      <th>StockCode</th>\n",
       "      <th>Description</th>\n",
       "      <th>Quantity</th>\n",
       "      <th>InvoiceDate</th>\n",
       "      <th>UnitPrice</th>\n",
       "      <th>Country</th>\n",
       "    </tr>\n",
       "  </thead>\n",
       "  <tbody>\n",
       "    <tr>\n",
       "      <th>0</th>\n",
       "      <td>536365</td>\n",
       "      <td>85123A</td>\n",
       "      <td>WHITE HANGING HEART T-LIGHT HOLDER</td>\n",
       "      <td>6</td>\n",
       "      <td>12/1/2010 8:26</td>\n",
       "      <td>2.55</td>\n",
       "      <td>United Kingdom</td>\n",
       "    </tr>\n",
       "    <tr>\n",
       "      <th>1</th>\n",
       "      <td>536365</td>\n",
       "      <td>71053</td>\n",
       "      <td>WHITE METAL LANTERN</td>\n",
       "      <td>6</td>\n",
       "      <td>12/1/2010 8:26</td>\n",
       "      <td>3.39</td>\n",
       "      <td>United Kingdom</td>\n",
       "    </tr>\n",
       "    <tr>\n",
       "      <th>2</th>\n",
       "      <td>536365</td>\n",
       "      <td>84406B</td>\n",
       "      <td>CREAM CUPID HEARTS COAT HANGER</td>\n",
       "      <td>8</td>\n",
       "      <td>12/1/2010 8:26</td>\n",
       "      <td>2.75</td>\n",
       "      <td>United Kingdom</td>\n",
       "    </tr>\n",
       "    <tr>\n",
       "      <th>3</th>\n",
       "      <td>536365</td>\n",
       "      <td>84029G</td>\n",
       "      <td>KNITTED UNION FLAG HOT WATER BOTTLE</td>\n",
       "      <td>6</td>\n",
       "      <td>12/1/2010 8:26</td>\n",
       "      <td>3.39</td>\n",
       "      <td>United Kingdom</td>\n",
       "    </tr>\n",
       "    <tr>\n",
       "      <th>4</th>\n",
       "      <td>536365</td>\n",
       "      <td>84029E</td>\n",
       "      <td>RED WOOLLY HOTTIE WHITE HEART.</td>\n",
       "      <td>6</td>\n",
       "      <td>12/1/2010 8:26</td>\n",
       "      <td>3.39</td>\n",
       "      <td>United Kingdom</td>\n",
       "    </tr>\n",
       "  </tbody>\n",
       "</table>\n",
       "</div>"
      ],
      "text/plain": [
       "  InvoiceNo StockCode                          Description  Quantity  \\\n",
       "0    536365    85123A   WHITE HANGING HEART T-LIGHT HOLDER         6   \n",
       "1    536365     71053                  WHITE METAL LANTERN         6   \n",
       "2    536365    84406B       CREAM CUPID HEARTS COAT HANGER         8   \n",
       "3    536365    84029G  KNITTED UNION FLAG HOT WATER BOTTLE         6   \n",
       "4    536365    84029E       RED WOOLLY HOTTIE WHITE HEART.         6   \n",
       "\n",
       "      InvoiceDate  UnitPrice         Country  \n",
       "0  12/1/2010 8:26       2.55  United Kingdom  \n",
       "1  12/1/2010 8:26       3.39  United Kingdom  \n",
       "2  12/1/2010 8:26       2.75  United Kingdom  \n",
       "3  12/1/2010 8:26       3.39  United Kingdom  \n",
       "4  12/1/2010 8:26       3.39  United Kingdom  "
      ]
     },
     "execution_count": 107,
     "metadata": {},
     "output_type": "execute_result"
    }
   ],
   "source": [
    "df.head()"
   ]
  },
  {
   "cell_type": "markdown",
   "id": "8bc4773c",
   "metadata": {},
   "source": [
    "For `Description`, the rows with missing values need to be removed as it's a key identifier for products."
   ]
  },
  {
   "cell_type": "code",
   "execution_count": 108,
   "id": "6e9d5c56",
   "metadata": {},
   "outputs": [],
   "source": [
    "df.dropna(subset=['Description'], inplace=True)"
   ]
  },
  {
   "cell_type": "code",
   "execution_count": 109,
   "id": "68e18ddb",
   "metadata": {},
   "outputs": [
    {
     "name": "stdout",
     "output_type": "stream",
     "text": [
      "Missing values after cleaning:\n",
      " InvoiceNo      0\n",
      "StockCode      0\n",
      "Description    0\n",
      "Quantity       0\n",
      "InvoiceDate    0\n",
      "UnitPrice      0\n",
      "Country        0\n",
      "dtype: int64\n",
      "\n",
      "Row count after handling the missing values: 535187\n"
     ]
    }
   ],
   "source": [
    "print(\"Missing values after cleaning:\\n\", df.isna().sum())\n",
    "print(f\"\\nRow count after handling the missing values: {len(df)}\")"
   ]
  },
  {
   "cell_type": "markdown",
   "id": "7c5cf408",
   "metadata": {},
   "source": [
    "### Converting Data Types"
   ]
  },
  {
   "cell_type": "markdown",
   "id": "7425b23d",
   "metadata": {},
   "source": [
    "The `InvoiceDate` is currently an object (string). It needs to be converted to a datetime object to perform time-series analysis and feature engineering correctly."
   ]
  },
  {
   "cell_type": "code",
   "execution_count": 110,
   "id": "34ec1cfd",
   "metadata": {},
   "outputs": [
    {
     "name": "stdout",
     "output_type": "stream",
     "text": [
      "Converting the data types...\n",
      "Converted 'InvoiceDate' column to datetime object.\n",
      "<class 'pandas.core.frame.DataFrame'>\n",
      "Index: 535187 entries, 0 to 541908\n",
      "Data columns (total 7 columns):\n",
      " #   Column       Non-Null Count   Dtype         \n",
      "---  ------       --------------   -----         \n",
      " 0   InvoiceNo    535187 non-null  object        \n",
      " 1   StockCode    535187 non-null  object        \n",
      " 2   Description  535187 non-null  object        \n",
      " 3   Quantity     535187 non-null  int64         \n",
      " 4   InvoiceDate  535187 non-null  datetime64[ns]\n",
      " 5   UnitPrice    535187 non-null  float64       \n",
      " 6   Country      535187 non-null  object        \n",
      "dtypes: datetime64[ns](1), float64(1), int64(1), object(4)\n",
      "memory usage: 32.7+ MB\n"
     ]
    }
   ],
   "source": [
    "print(\"Converting the data types...\")\n",
    "df['InvoiceDate'] = pd.to_datetime(df['InvoiceDate'])\n",
    "print(\"Converted 'InvoiceDate' column to datetime object.\")\n",
    "df.info()"
   ]
  },
  {
   "cell_type": "markdown",
   "id": "be5f4e31",
   "metadata": {},
   "source": [
    "### Handling Anomalies (Negative Quantities and Unit Prices)"
   ]
  },
  {
   "cell_type": "markdown",
   "id": "70dd4a17",
   "metadata": {},
   "source": [
    "Based on the descriptive statistics summary, the minimum values for the `Quantity` and `UnitPrice` columns are negative. This suggests the dataset includes cancelled or returned orders, where the quantity and unit price are represented as negative values. For a sales prediction model, we need to focus on positive sales transactions. Therefore, rows where `Quantity` is less than or equal to 0 need to be filtered out. Similarly, rows with a non-positive `UnitPrice` must also be filtered out, as a product cannot be sold for a zero or negative price."
   ]
  },
  {
   "cell_type": "code",
   "execution_count": 111,
   "id": "10dcc635",
   "metadata": {},
   "outputs": [
    {
     "name": "stdout",
     "output_type": "stream",
     "text": [
      "Handling anomalies in the dataset...\n",
      "Removed 9725 rows with non-positive values (i.e., return orders or cancellations) in the 'Quantity' column.\n",
      "Removed 584 rows with non-positive values (i.e., return orders and cancellatons) in the 'UnitPrice' column.\n",
      "Row count after handling anomalies in the dataset: 524878\n"
     ]
    }
   ],
   "source": [
    "print(\"Handling anomalies in the dataset...\")\n",
    "negative_quantity_count = (df['Quantity'] <= 0).sum()\n",
    "df = df[df['Quantity'] > 0]\n",
    "print(f\"Removed {negative_quantity_count} rows with non-positive values (i.e., return orders or cancellations) in the 'Quantity' column.\")\n",
    "negative_unit_price_count = (df['UnitPrice'] <= 0).sum()\n",
    "df = df[df['UnitPrice'] > 0]\n",
    "print(f\"Removed {negative_unit_price_count} rows with non-positive values (i.e., return orders and cancellatons) in the 'UnitPrice' column.\")\n",
    "print(f\"Row count after handling anomalies in the dataset: {len(df)}\")"
   ]
  },
  {
   "cell_type": "markdown",
   "id": "f80cabfc",
   "metadata": {},
   "source": [
    "## Feature Engineering"
   ]
  },
  {
   "cell_type": "markdown",
   "id": "4d82e22c",
   "metadata": {},
   "source": [
    "#### 1. Total Sales:\n",
    "The total sales amount for each line needs to be calculated. This is a fundamental feature that gives us the monetary value of each transaction."
   ]
  },
  {
   "cell_type": "code",
   "execution_count": 112,
   "id": "bf662906",
   "metadata": {},
   "outputs": [
    {
     "name": "stdout",
     "output_type": "stream",
     "text": [
      "Added 'TotalSales' column to the dataset.\n"
     ]
    },
    {
     "data": {
      "text/html": [
       "<div>\n",
       "<style scoped>\n",
       "    .dataframe tbody tr th:only-of-type {\n",
       "        vertical-align: middle;\n",
       "    }\n",
       "\n",
       "    .dataframe tbody tr th {\n",
       "        vertical-align: top;\n",
       "    }\n",
       "\n",
       "    .dataframe thead th {\n",
       "        text-align: right;\n",
       "    }\n",
       "</style>\n",
       "<table border=\"1\" class=\"dataframe\">\n",
       "  <thead>\n",
       "    <tr style=\"text-align: right;\">\n",
       "      <th></th>\n",
       "      <th>InvoiceNo</th>\n",
       "      <th>StockCode</th>\n",
       "      <th>Description</th>\n",
       "      <th>Quantity</th>\n",
       "      <th>InvoiceDate</th>\n",
       "      <th>UnitPrice</th>\n",
       "      <th>Country</th>\n",
       "      <th>TotalSales</th>\n",
       "    </tr>\n",
       "  </thead>\n",
       "  <tbody>\n",
       "    <tr>\n",
       "      <th>0</th>\n",
       "      <td>536365</td>\n",
       "      <td>85123A</td>\n",
       "      <td>WHITE HANGING HEART T-LIGHT HOLDER</td>\n",
       "      <td>6</td>\n",
       "      <td>2010-12-01 08:26:00</td>\n",
       "      <td>2.55</td>\n",
       "      <td>United Kingdom</td>\n",
       "      <td>15.30</td>\n",
       "    </tr>\n",
       "    <tr>\n",
       "      <th>1</th>\n",
       "      <td>536365</td>\n",
       "      <td>71053</td>\n",
       "      <td>WHITE METAL LANTERN</td>\n",
       "      <td>6</td>\n",
       "      <td>2010-12-01 08:26:00</td>\n",
       "      <td>3.39</td>\n",
       "      <td>United Kingdom</td>\n",
       "      <td>20.34</td>\n",
       "    </tr>\n",
       "    <tr>\n",
       "      <th>2</th>\n",
       "      <td>536365</td>\n",
       "      <td>84406B</td>\n",
       "      <td>CREAM CUPID HEARTS COAT HANGER</td>\n",
       "      <td>8</td>\n",
       "      <td>2010-12-01 08:26:00</td>\n",
       "      <td>2.75</td>\n",
       "      <td>United Kingdom</td>\n",
       "      <td>22.00</td>\n",
       "    </tr>\n",
       "    <tr>\n",
       "      <th>3</th>\n",
       "      <td>536365</td>\n",
       "      <td>84029G</td>\n",
       "      <td>KNITTED UNION FLAG HOT WATER BOTTLE</td>\n",
       "      <td>6</td>\n",
       "      <td>2010-12-01 08:26:00</td>\n",
       "      <td>3.39</td>\n",
       "      <td>United Kingdom</td>\n",
       "      <td>20.34</td>\n",
       "    </tr>\n",
       "    <tr>\n",
       "      <th>4</th>\n",
       "      <td>536365</td>\n",
       "      <td>84029E</td>\n",
       "      <td>RED WOOLLY HOTTIE WHITE HEART.</td>\n",
       "      <td>6</td>\n",
       "      <td>2010-12-01 08:26:00</td>\n",
       "      <td>3.39</td>\n",
       "      <td>United Kingdom</td>\n",
       "      <td>20.34</td>\n",
       "    </tr>\n",
       "  </tbody>\n",
       "</table>\n",
       "</div>"
      ],
      "text/plain": [
       "  InvoiceNo StockCode                          Description  Quantity  \\\n",
       "0    536365    85123A   WHITE HANGING HEART T-LIGHT HOLDER         6   \n",
       "1    536365     71053                  WHITE METAL LANTERN         6   \n",
       "2    536365    84406B       CREAM CUPID HEARTS COAT HANGER         8   \n",
       "3    536365    84029G  KNITTED UNION FLAG HOT WATER BOTTLE         6   \n",
       "4    536365    84029E       RED WOOLLY HOTTIE WHITE HEART.         6   \n",
       "\n",
       "          InvoiceDate  UnitPrice         Country  TotalSales  \n",
       "0 2010-12-01 08:26:00       2.55  United Kingdom       15.30  \n",
       "1 2010-12-01 08:26:00       3.39  United Kingdom       20.34  \n",
       "2 2010-12-01 08:26:00       2.75  United Kingdom       22.00  \n",
       "3 2010-12-01 08:26:00       3.39  United Kingdom       20.34  \n",
       "4 2010-12-01 08:26:00       3.39  United Kingdom       20.34  "
      ]
     },
     "execution_count": 112,
     "metadata": {},
     "output_type": "execute_result"
    }
   ],
   "source": [
    "df['TotalSales'] = df['Quantity'] * df['UnitPrice']\n",
    "print(\"Added 'TotalSales' column to the dataset.\")\n",
    "df.head()"
   ]
  },
  {
   "cell_type": "markdown",
   "id": "be683673",
   "metadata": {},
   "source": [
    "#### 2. Time-based Features\n",
    "The information from the `InvoiceDate` column is extracted into separate features for year, month, week, and day. These features are essential for capturing seasonality and other time-related patterns within the dataset."
   ]
  },
  {
   "cell_type": "code",
   "execution_count": 113,
   "id": "b9c6df5c",
   "metadata": {},
   "outputs": [
    {
     "name": "stdout",
     "output_type": "stream",
     "text": [
      "Extracted time-based features year, month, week, and day from 'InvoiceDate' and added them as columns to the dataset. Also, removed the time from the 'InvoiceDate' to convert in into date and added it as a 'Invoice_Date' column.\n"
     ]
    },
    {
     "data": {
      "text/html": [
       "<div>\n",
       "<style scoped>\n",
       "    .dataframe tbody tr th:only-of-type {\n",
       "        vertical-align: middle;\n",
       "    }\n",
       "\n",
       "    .dataframe tbody tr th {\n",
       "        vertical-align: top;\n",
       "    }\n",
       "\n",
       "    .dataframe thead th {\n",
       "        text-align: right;\n",
       "    }\n",
       "</style>\n",
       "<table border=\"1\" class=\"dataframe\">\n",
       "  <thead>\n",
       "    <tr style=\"text-align: right;\">\n",
       "      <th></th>\n",
       "      <th>InvoiceNo</th>\n",
       "      <th>StockCode</th>\n",
       "      <th>Description</th>\n",
       "      <th>Quantity</th>\n",
       "      <th>InvoiceDate</th>\n",
       "      <th>UnitPrice</th>\n",
       "      <th>Country</th>\n",
       "      <th>TotalSales</th>\n",
       "      <th>Invoice_Date</th>\n",
       "      <th>InvoiceYear</th>\n",
       "      <th>InvoiceMonth</th>\n",
       "      <th>InvoiceWeek</th>\n",
       "      <th>WeekStartDate</th>\n",
       "      <th>IncoiceDay</th>\n",
       "    </tr>\n",
       "  </thead>\n",
       "  <tbody>\n",
       "    <tr>\n",
       "      <th>0</th>\n",
       "      <td>536365</td>\n",
       "      <td>85123A</td>\n",
       "      <td>WHITE HANGING HEART T-LIGHT HOLDER</td>\n",
       "      <td>6</td>\n",
       "      <td>2010-12-01 08:26:00</td>\n",
       "      <td>2.55</td>\n",
       "      <td>United Kingdom</td>\n",
       "      <td>15.30</td>\n",
       "      <td>2010-12-01</td>\n",
       "      <td>2010</td>\n",
       "      <td>12</td>\n",
       "      <td>48</td>\n",
       "      <td>2010-11-29</td>\n",
       "      <td>Wednesday</td>\n",
       "    </tr>\n",
       "    <tr>\n",
       "      <th>1</th>\n",
       "      <td>536365</td>\n",
       "      <td>71053</td>\n",
       "      <td>WHITE METAL LANTERN</td>\n",
       "      <td>6</td>\n",
       "      <td>2010-12-01 08:26:00</td>\n",
       "      <td>3.39</td>\n",
       "      <td>United Kingdom</td>\n",
       "      <td>20.34</td>\n",
       "      <td>2010-12-01</td>\n",
       "      <td>2010</td>\n",
       "      <td>12</td>\n",
       "      <td>48</td>\n",
       "      <td>2010-11-29</td>\n",
       "      <td>Wednesday</td>\n",
       "    </tr>\n",
       "    <tr>\n",
       "      <th>2</th>\n",
       "      <td>536365</td>\n",
       "      <td>84406B</td>\n",
       "      <td>CREAM CUPID HEARTS COAT HANGER</td>\n",
       "      <td>8</td>\n",
       "      <td>2010-12-01 08:26:00</td>\n",
       "      <td>2.75</td>\n",
       "      <td>United Kingdom</td>\n",
       "      <td>22.00</td>\n",
       "      <td>2010-12-01</td>\n",
       "      <td>2010</td>\n",
       "      <td>12</td>\n",
       "      <td>48</td>\n",
       "      <td>2010-11-29</td>\n",
       "      <td>Wednesday</td>\n",
       "    </tr>\n",
       "    <tr>\n",
       "      <th>3</th>\n",
       "      <td>536365</td>\n",
       "      <td>84029G</td>\n",
       "      <td>KNITTED UNION FLAG HOT WATER BOTTLE</td>\n",
       "      <td>6</td>\n",
       "      <td>2010-12-01 08:26:00</td>\n",
       "      <td>3.39</td>\n",
       "      <td>United Kingdom</td>\n",
       "      <td>20.34</td>\n",
       "      <td>2010-12-01</td>\n",
       "      <td>2010</td>\n",
       "      <td>12</td>\n",
       "      <td>48</td>\n",
       "      <td>2010-11-29</td>\n",
       "      <td>Wednesday</td>\n",
       "    </tr>\n",
       "    <tr>\n",
       "      <th>4</th>\n",
       "      <td>536365</td>\n",
       "      <td>84029E</td>\n",
       "      <td>RED WOOLLY HOTTIE WHITE HEART.</td>\n",
       "      <td>6</td>\n",
       "      <td>2010-12-01 08:26:00</td>\n",
       "      <td>3.39</td>\n",
       "      <td>United Kingdom</td>\n",
       "      <td>20.34</td>\n",
       "      <td>2010-12-01</td>\n",
       "      <td>2010</td>\n",
       "      <td>12</td>\n",
       "      <td>48</td>\n",
       "      <td>2010-11-29</td>\n",
       "      <td>Wednesday</td>\n",
       "    </tr>\n",
       "  </tbody>\n",
       "</table>\n",
       "</div>"
      ],
      "text/plain": [
       "  InvoiceNo StockCode                          Description  Quantity  \\\n",
       "0    536365    85123A   WHITE HANGING HEART T-LIGHT HOLDER         6   \n",
       "1    536365     71053                  WHITE METAL LANTERN         6   \n",
       "2    536365    84406B       CREAM CUPID HEARTS COAT HANGER         8   \n",
       "3    536365    84029G  KNITTED UNION FLAG HOT WATER BOTTLE         6   \n",
       "4    536365    84029E       RED WOOLLY HOTTIE WHITE HEART.         6   \n",
       "\n",
       "          InvoiceDate  UnitPrice         Country  TotalSales Invoice_Date  \\\n",
       "0 2010-12-01 08:26:00       2.55  United Kingdom       15.30   2010-12-01   \n",
       "1 2010-12-01 08:26:00       3.39  United Kingdom       20.34   2010-12-01   \n",
       "2 2010-12-01 08:26:00       2.75  United Kingdom       22.00   2010-12-01   \n",
       "3 2010-12-01 08:26:00       3.39  United Kingdom       20.34   2010-12-01   \n",
       "4 2010-12-01 08:26:00       3.39  United Kingdom       20.34   2010-12-01   \n",
       "\n",
       "   InvoiceYear  InvoiceMonth  InvoiceWeek WeekStartDate IncoiceDay  \n",
       "0         2010            12           48    2010-11-29  Wednesday  \n",
       "1         2010            12           48    2010-11-29  Wednesday  \n",
       "2         2010            12           48    2010-11-29  Wednesday  \n",
       "3         2010            12           48    2010-11-29  Wednesday  \n",
       "4         2010            12           48    2010-11-29  Wednesday  "
      ]
     },
     "execution_count": 113,
     "metadata": {},
     "output_type": "execute_result"
    }
   ],
   "source": [
    "df['Invoice_Date'] = df['InvoiceDate'].dt.date\n",
    "df['InvoiceYear'] = df['InvoiceDate'].dt.year\n",
    "df['InvoiceMonth'] = df['InvoiceDate'].dt.month\n",
    "df['InvoiceWeek'] = df['InvoiceDate'].dt.isocalendar().week.astype(int)\n",
    "df['WeekStartDate'] = df.apply(\n",
    "    lambda row: datetime.date.fromisocalendar(row['InvoiceYear'], row['InvoiceWeek'], 1), axis=1\n",
    ")\n",
    "df['IncoiceDay'] = df['InvoiceDate'].dt.day_name()\n",
    "print(\"Extracted time-based features year, month, week, and day from 'InvoiceDate' and added them as columns to the dataset. Also, removed the time from the 'InvoiceDate' to convert in into date and added it as a 'Invoice_Date' column.\")\n",
    "df.head()"
   ]
  },
  {
   "cell_type": "markdown",
   "id": "a390f738",
   "metadata": {},
   "source": [
    "## Creating Weekly Shipment Data"
   ]
  },
  {
   "cell_type": "markdown",
   "id": "5a473e4e",
   "metadata": {},
   "source": [
    "To transform the transaction data into a clean, weekly time-series format for each product, we will first create a DataFrame with the necessary columns: `StockCode`, `InvoiceDate`, and `Quantity`. After setting `InvoiceDate` as the index, we will loop through each unique product. For each product, we will resample the data to a weekly frequency, sum the quantities, and then join it to a complete date range to fill in missing weeks. The missing values will then be filled with zeros to ensure a consistent history. Finally, we will add the product code, rename the quantity column, and append it to our main DataFrame for a clean output."
   ]
  },
  {
   "cell_type": "code",
   "execution_count": 114,
   "id": "19f97028",
   "metadata": {},
   "outputs": [
    {
     "data": {
      "text/html": [
       "<div>\n",
       "<style scoped>\n",
       "    .dataframe tbody tr th:only-of-type {\n",
       "        vertical-align: middle;\n",
       "    }\n",
       "\n",
       "    .dataframe tbody tr th {\n",
       "        vertical-align: top;\n",
       "    }\n",
       "\n",
       "    .dataframe thead th {\n",
       "        text-align: right;\n",
       "    }\n",
       "</style>\n",
       "<table border=\"1\" class=\"dataframe\">\n",
       "  <thead>\n",
       "    <tr style=\"text-align: right;\">\n",
       "      <th></th>\n",
       "      <th>WeekStartDate</th>\n",
       "      <th>WeeklyShipments</th>\n",
       "      <th>StockCode</th>\n",
       "    </tr>\n",
       "  </thead>\n",
       "  <tbody>\n",
       "    <tr>\n",
       "      <th>0</th>\n",
       "      <td>2010-11-29</td>\n",
       "      <td>986</td>\n",
       "      <td>85123A</td>\n",
       "    </tr>\n",
       "    <tr>\n",
       "      <th>1</th>\n",
       "      <td>2010-12-06</td>\n",
       "      <td>1045</td>\n",
       "      <td>85123A</td>\n",
       "    </tr>\n",
       "    <tr>\n",
       "      <th>2</th>\n",
       "      <td>2010-12-13</td>\n",
       "      <td>1524</td>\n",
       "      <td>85123A</td>\n",
       "    </tr>\n",
       "    <tr>\n",
       "      <th>3</th>\n",
       "      <td>2010-12-20</td>\n",
       "      <td>197</td>\n",
       "      <td>85123A</td>\n",
       "    </tr>\n",
       "    <tr>\n",
       "      <th>4</th>\n",
       "      <td>2010-12-27</td>\n",
       "      <td>0</td>\n",
       "      <td>85123A</td>\n",
       "    </tr>\n",
       "  </tbody>\n",
       "</table>\n",
       "</div>"
      ],
      "text/plain": [
       "  WeekStartDate  WeeklyShipments StockCode\n",
       "0    2010-11-29              986    85123A\n",
       "1    2010-12-06             1045    85123A\n",
       "2    2010-12-13             1524    85123A\n",
       "3    2010-12-20              197    85123A\n",
       "4    2010-12-27                0    85123A"
      ]
     },
     "execution_count": 114,
     "metadata": {},
     "output_type": "execute_result"
    }
   ],
   "source": [
    "df_weekly = df[['StockCode', 'WeekStartDate', 'Quantity']].copy()\n",
    "all_products = df_weekly['StockCode'].unique()\n",
    "min_date = df_weekly['WeekStartDate'].min()\n",
    "max_date = df_weekly['WeekStartDate'].max()\n",
    "date_range = pd.date_range(start=min_date, end=max_date, freq='W-MON')  # Weekly on Monday\n",
    "\n",
    "clean_weekly_data = pd.DataFrame()\n",
    "for product_code in all_products:\n",
    "    product_data = df_weekly[df_weekly['StockCode'] == product_code].copy()\n",
    "    product_weekly_sum = product_data.groupby('WeekStartDate')['Quantity'].sum()\n",
    "    product_resampled = product_weekly_sum.reindex(date_range, fill_value=0).to_frame(name='WeeklyShipments')\n",
    "    product_resampled['StockCode'] = product_code\n",
    "    clean_weekly_data = pd.concat([clean_weekly_data, product_resampled])\n",
    "\n",
    "clean_weekly_data.reset_index(inplace=True)\n",
    "clean_weekly_data.rename(columns={'index': 'WeekStartDate'}, inplace=True)\n",
    "clean_weekly_data.head()"
   ]
  },
  {
   "cell_type": "code",
   "execution_count": 115,
   "id": "a8879d9c",
   "metadata": {},
   "outputs": [
    {
     "name": "stdout",
     "output_type": "stream",
     "text": [
      "<class 'pandas.core.frame.DataFrame'>\n",
      "RangeIndex: 211788 entries, 0 to 211787\n",
      "Data columns (total 3 columns):\n",
      " #   Column           Non-Null Count   Dtype         \n",
      "---  ------           --------------   -----         \n",
      " 0   WeekStartDate    211788 non-null  datetime64[ns]\n",
      " 1   WeeklyShipments  211788 non-null  int64         \n",
      " 2   StockCode        211788 non-null  object        \n",
      "dtypes: datetime64[ns](1), int64(1), object(1)\n",
      "memory usage: 4.8+ MB\n"
     ]
    }
   ],
   "source": [
    "clean_weekly_data.info()"
   ]
  },
  {
   "cell_type": "markdown",
   "id": "65e9b21c",
   "metadata": {},
   "source": [
    "## Saving the Final Dataset as a New Excel File"
   ]
  },
  {
   "cell_type": "code",
   "execution_count": 116,
   "id": "bdeffe9e",
   "metadata": {},
   "outputs": [
    {
     "name": "stdout",
     "output_type": "stream",
     "text": [
      "Saving the final dataset as a new Excel file...\n",
      "Dataset saved successfully to 'Proccessed_Online_Retail_2.xlsx' in two sheets.\n",
      "Data Cleaning and Preprocessing Completed. The dataset is ready for Exploratory Data Analysis and Sales Forecasting.\n"
     ]
    }
   ],
   "source": [
    "print(\"Saving the final dataset as a new Excel file...\")\n",
    "output_file_name = 'Proccessed_Online_Retail_2.xlsx'\n",
    "try:\n",
    "    with pd.ExcelWriter(output_file_name, engine = 'openpyxl') as writer:\n",
    "        df.to_excel(writer, sheet_name = 'Cleaned_processed_dataset', index = False)\n",
    "        clean_weekly_data.to_excel(writer, sheet_name = 'Weekly_Shipment_Data', index = False)\n",
    "    print(f\"Dataset saved successfully to '{output_file_name}' in two sheets.\")\n",
    "except Exception as e:\n",
    "    print(f\"error: An error occurred while saving the file. {e}\")\n",
    "print(\"Data Cleaning and Preprocessing Completed. The dataset is ready for Exploratory Data Analysis and Sales Forecasting.\")"
   ]
  }
 ],
 "metadata": {
  "kernelspec": {
   "display_name": "base",
   "language": "python",
   "name": "python3"
  },
  "language_info": {
   "codemirror_mode": {
    "name": "ipython",
    "version": 3
   },
   "file_extension": ".py",
   "mimetype": "text/x-python",
   "name": "python",
   "nbconvert_exporter": "python",
   "pygments_lexer": "ipython3",
   "version": "3.12.7"
  }
 },
 "nbformat": 4,
 "nbformat_minor": 5
}
